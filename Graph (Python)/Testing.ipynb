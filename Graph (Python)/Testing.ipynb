{
 "cells": [
  {
   "cell_type": "code",
   "execution_count": 1,
   "metadata": {},
   "outputs": [],
   "source": [
    "from graph import Graph\n",
    "\n",
    "def new_print(arg):\n",
    "    print(arg, type(arg))"
   ]
  },
  {
   "cell_type": "code",
   "execution_count": 2,
   "metadata": {},
   "outputs": [],
   "source": [
    "G = Graph(vertices=[i for i in range(10)])"
   ]
  },
  {
   "cell_type": "code",
   "execution_count": 3,
   "metadata": {},
   "outputs": [],
   "source": [
    "l = []\n",
    "for vertex in G.vertices:\n",
    "    for i in G.vertices:\n",
    "        if vertex not in l:\n",
    "            G.edge(vertex, i) if i.index != vertex.index else _\n",
    "            l.append(i)"
   ]
  },
  {
   "cell_type": "code",
   "execution_count": 8,
   "metadata": {},
   "outputs": [
    {
     "data": {
      "text/plain": [
       "90"
      ]
     },
     "execution_count": 8,
     "metadata": {},
     "output_type": "execute_result"
    }
   ],
   "source": [
    "G.n"
   ]
  },
  {
   "cell_type": "code",
   "execution_count": null,
   "metadata": {},
   "outputs": [],
   "source": [
    "from Utils.visualization import Visualization\n",
    "Visualization(G)"
   ]
  },
  {
   "cell_type": "code",
   "execution_count": null,
   "metadata": {},
   "outputs": [],
   "source": [
    "from graph import Graph\n",
    "# There are two ways of creating a graph:\n",
    "# 1. Initiate the empty graph and create the vertices and edges later on\n",
    "G = Graph()\n",
    "# Add vertices and edges manually and save a reference to them\n",
    "vertex1 = G.vertex() # Add an isolated vertex\n",
    "vertex2 = G.vertex()\n",
    "edge1 = G.edge(vertex1, vertex2) # | G.edge(v1, v2)\n",
    "\n",
    "# 2. Initiate the graph using a vertex and edge set / binary relation\n",
    "G = Graph([0, 1, 2, 3, 4, 5], [(1, 2), (1, 3), (4, 3), (0, 1)])\n",
    "    \n",
    "# Working with vertices and edges:\n",
    "# Accessing unreferenced vertices\n",
    "v1 = G.v(1) # References the vertex object itself\n",
    "v2 = G[0] # Indexing the graph object returns the vertex at the index\n",
    "\n",
    "# Accessing unreferenced edges:\n",
    "G.e(1, 2) # References the edge objects connecting vertex 1 and vertex 2 if they exist. returns a list of edges\n",
    "e1 = G.e(v1, v2)[0] # is also possible\n",
    "\n",
    "# Removing a vertex\n",
    "G.remove_vertex(5) # Matrix representations of the graph will keep the entry for the removed vertex but the vertex is not referenceable\n",
    "\n",
    "# Removing an edge\n",
    "G.remove_edge(G.e(1, 2)[0]) # The argument must be an edge object reference\n",
    "\n",
    "# Setting a vertex value which can be any object\n",
    "v1.value = 42\n",
    "v2.value = [420, 69]\n",
    "\n",
    "# Degree of a vertex\n",
    "print(\"Degree of 0: \", G.deg(0))\n",
    "\n",
    "# Distance of two vertices\n",
    "print(\"Distance of 2 and 1: \", G.d(2, v1))\n",
    "\n",
    "print(\"==========\")\n",
    "# Representations\n",
    "print(G) # Prints out the adjacency matrix\n",
    "# or simply call G in jupyter\n",
    "\n",
    "# You can use the pyvis extension to visualize the graph and edges\n",
    "from Utils.visualization import Visualization\n",
    "Visualization(G) # Generates an html file\n",
    "\n",
    "# To get all vertices\n",
    "print(\"Vertices: \", G.vertices)\n",
    "\n",
    "# To get all edges\n",
    "print(\"Edges: \" , G.edges)\n",
    "\n",
    "# Get the distance matrix\n",
    "print(\"Distance matrix: \", G.distance_matrix) # Currently works only for simple graphs. Updates all the distances on every call\n",
    "\n",
    "# Degree sequence\n",
    "print(\"Degree sequence: \", G.degree_sequence)\n",
    "\n",
    "print(\"==========\")\n",
    "# Attributes\n",
    "# Whether the graph is simple\n",
    "print(\"Is Simple: \", G.is_simple)\n",
    "\n",
    "# Whether edges in the graph have weights other than 1 and 0 (updated by self.connect())\n",
    "print(\"Is Weighted: \", G.is_weighted)\n",
    "\n",
    "# Whether every vertex in the graph has at least one edge to every other vertex other than to itself\n",
    "print(\"Is Complete: \", G.is_complete)\n",
    "\n",
    "# Whether the graph has at least one pendent vertex\n",
    "print(\"Has Pendent: \", G.has_pendent)\n",
    "\n",
    "# Whether the graph has at least one isolated vertex\n",
    "print(\"Has Isolated: \", G.has_isolated)\n",
    "\n",
    "# Whether any two vertices have parallel edges\n",
    "print(\"Is Multigraph: \", G.is_multigraph)\n",
    "\n",
    "# Whether the graph has at least one self-loop\n",
    "print(\"Has Self-loop: \", G.has_self_loop)"
   ]
  },
  {
   "cell_type": "code",
   "execution_count": 10,
   "metadata": {},
   "outputs": [
    {
     "ename": "SyntaxError",
     "evalue": "invalid syntax (1078636744.py, line 1)",
     "output_type": "error",
     "traceback": [
      "\u001b[1;36m  Cell \u001b[1;32mIn[10], line 1\u001b[1;36m\u001b[0m\n\u001b[1;33m    import ./Stack/stack.py\u001b[0m\n\u001b[1;37m           ^\u001b[0m\n\u001b[1;31mSyntaxError\u001b[0m\u001b[1;31m:\u001b[0m invalid syntax\n"
     ]
    }
   ],
   "source": []
  },
  {
   "cell_type": "code",
   "execution_count": null,
   "metadata": {},
   "outputs": [],
   "source": []
  }
 ],
 "metadata": {
  "kernelspec": {
   "display_name": "Python 3",
   "language": "python",
   "name": "python3"
  },
  "language_info": {
   "codemirror_mode": {
    "name": "ipython",
    "version": 3
   },
   "file_extension": ".py",
   "mimetype": "text/x-python",
   "name": "python",
   "nbconvert_exporter": "python",
   "pygments_lexer": "ipython3",
   "version": "3.11.3"
  },
  "orig_nbformat": 4
 },
 "nbformat": 4,
 "nbformat_minor": 2
}
